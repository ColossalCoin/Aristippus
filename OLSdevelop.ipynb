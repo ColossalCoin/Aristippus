{
 "cells": [
  {
   "cell_type": "code",
   "id": "initial_id",
   "metadata": {
    "collapsed": true
   },
   "source": [
    "import pandas as pd\n",
    "\n",
    "municipios = [\"tlaquepaque\", \"tonala\", \"tlajomulco\", \"guadalajara\", \"zapopan\"]\n",
    "propiedades_jalisco = pd.read_csv(\"Data/jalisco/propiedades_jalisco.csv\")\n",
    "\n",
    "dfs = []\n",
    "# Unimos los datos de las variables de entorno de cada municipio\n",
    "for municipio in municipios:\n",
    "    df_municipio = pd.read_csv(f\"Data/jalisco/direcciones_lineales/direcciones_lineales_{municipio}.csv\")\n",
    "    dfs.append(df_municipio)\n",
    "df_entorno = pd.concat(dfs)\n",
    "df_entorno"
   ],
   "outputs": [],
   "execution_count": null
  },
  {
   "metadata": {},
   "cell_type": "code",
   "source": [
    "df_estructurales = pd.read_csv(\"Data/jalisco/propiedades_jalisco.csv\")\n",
    "\n",
    "df = df_estructurales.merge(df_entorno, on=\"direccion\")\n",
    "\n",
    "# Eliminamos las filas con valores nulos\n",
    "df = df.dropna()\n",
    "df.describe()"
   ],
   "id": "a03d8b71e2530e0b",
   "outputs": [],
   "execution_count": null
  },
  {
   "metadata": {},
   "cell_type": "code",
   "source": [
    "import matplotlib.pyplot as plt\n",
    "\n",
    "df[\"municipio\"].value_counts().plot.pie(autopct='%1.1f%%', figsize=(6, 6), title='Distribución')\n",
    "plt.plot()"
   ],
   "id": "6b029ddfd26c89a3",
   "outputs": [],
   "execution_count": null
  },
  {
   "metadata": {},
   "cell_type": "code",
   "source": [
    "df[\"jardin\"].value_counts().plot.pie(autopct='%1.1f%%', figsize=(6, 6), title='Distribución')\n",
    "plt.plot()"
   ],
   "id": "e090a823ed435384",
   "outputs": [],
   "execution_count": null
  },
  {
   "metadata": {},
   "cell_type": "code",
   "source": [
    "import plotly.express as px\n",
    "\n",
    "px.box(df, y=['precio'], title='Distribución de precio')\n"
   ],
   "id": "53876ff7a747ca01",
   "outputs": [],
   "execution_count": null
  },
  {
   "metadata": {},
   "cell_type": "code",
   "source": [
    "from scipy.stats import zscore\n",
    "\n",
    "# Eliminamos la propiedad de $125 MXN\n",
    "df = df[df['precio'] != 125]\n",
    "zscores_precio = zscore(df['precio'])\n",
    "\n",
    "df = df[abs(zscores_precio) < 3]\n",
    "df[\"precio\"].describe()"
   ],
   "id": "e9be7f7d7b75dbe0",
   "outputs": [],
   "execution_count": null
  },
  {
   "metadata": {},
   "cell_type": "code",
   "source": "df[df[\"precio\"] <= 400000]",
   "id": "84a06ab2b7763f49",
   "outputs": [],
   "execution_count": null
  },
  {
   "metadata": {},
   "cell_type": "code",
   "source": [
    "import seaborn as sns\n",
    "\n",
    "sns.violinplot(df[\"precio\"], inner=\"box\")\n",
    "plt.show()"
   ],
   "id": "9c4a587972bd6f02",
   "outputs": [],
   "execution_count": null
  },
  {
   "metadata": {},
   "cell_type": "markdown",
   "source": "Repetimos el ejercicio para la variable `m2_lote` que también presenta valores atípicos.",
   "id": "a728c2c80fd1d0f4"
  },
  {
   "metadata": {},
   "cell_type": "code",
   "source": "px.box(df, y=['m2_lote'], title='Distribución de m2_lote')",
   "id": "37c4d3533ef7b541",
   "outputs": [],
   "execution_count": null
  },
  {
   "metadata": {},
   "cell_type": "code",
   "source": [
    "df = df[df['m2_lote'] != 1110000]\n",
    "zscores_lote = zscore(df['m2_lote'])\n",
    "\n",
    "df = df[abs(zscores_lote) < 3]\n",
    "df[\"m2_lote\"].describe()"
   ],
   "id": "cc84b24b403dd567",
   "outputs": [],
   "execution_count": null
  },
  {
   "metadata": {},
   "cell_type": "code",
   "source": "sns.violinplot(df[\"m2_lote\"], inner=\"box\")",
   "id": "149c5ce9f8c6ee3c",
   "outputs": [],
   "execution_count": null
  },
  {
   "metadata": {},
   "cell_type": "markdown",
   "source": "Finalmente, repetimos el procedimiento para la variable `Distancia la centro de la ciudad (km)` que presenta un valor atípico.",
   "id": "ba40451d33a6fd31"
  },
  {
   "metadata": {},
   "cell_type": "code",
   "source": "px.box(df, y=['Distancia al centro de la ciudad (km)'], title='Distribución de distancia al centro de la ciudad (km)')",
   "id": "14dca696796d85f7",
   "outputs": [],
   "execution_count": null
  },
  {
   "metadata": {},
   "cell_type": "code",
   "source": [
    "df = df[df['Distancia al centro de la ciudad (km)'] != 7782.9]\n",
    "zscores_centro = zscore(df['Distancia al centro de la ciudad (km)'])\n",
    "\n",
    "df = df[abs(zscores_centro) < 3]\n",
    "df[\"Distancia al centro de la ciudad (km)\"].describe()"
   ],
   "id": "902d4dc6b14ab553",
   "outputs": [],
   "execution_count": null
  },
  {
   "metadata": {},
   "cell_type": "code",
   "source": "sns.violinplot(df[\"Distancia al centro de la ciudad (km)\"], inner=\"box\")",
   "id": "c3f7b6041cc2b0c2",
   "outputs": [],
   "execution_count": null
  },
  {
   "metadata": {},
   "cell_type": "code",
   "source": "df",
   "id": "781dce7540d52942",
   "outputs": [],
   "execution_count": null
  },
  {
   "metadata": {},
   "cell_type": "code",
   "source": [
    "df[\"municipio\"].value_counts().plot.pie(autopct='%1.1f%%', figsize=(6, 6), title='Distribución')\n",
    "plt.plot()"
   ],
   "id": "3d961340c03cf462",
   "outputs": [],
   "execution_count": null
  },
  {
   "metadata": {},
   "cell_type": "code",
   "source": [
    "# Agregamos los indices de criminalidad\n",
    "\n",
    "indices_criminalidad = {\n",
    "    'guadalajara': {'robo_de_vehiculo_automotor':192.69, 'robo_a_negocio':80.67, 'robo_casa_habitacion':21.82},\n",
    "    'tlaquepaque': {'robo_de_vehiculo_automotor':220.06, 'robo_a_negocio':67.25, 'robo_casa_habitacion':45.35},\n",
    "    'tonala': {'robo_de_vehiculo_automotor':108.46, 'robo_a_negocio':33.36, 'robo_casa_habitacion':16.76},\n",
    "    'tlajomulco': {'robo_de_vehiculo_automotor':91.67, 'robo_a_negocio':67.88, 'robo_casa_habitacion':58.60},\n",
    "    'zapopan': {'robo_de_vehiculo_automotor':97.58, 'robo_a_negocio':44.57, 'robo_casa_habitacion':16.27}\n",
    "}\n",
    "\n",
    "# Convertir a DataFrame y poner municipio como columna\n",
    "df_criminalidad = pd.DataFrame.from_dict(indices_criminalidad, orient='index').reset_index()\n",
    "df_criminalidad = df_criminalidad.rename(columns={'index':'municipio'})\n",
    "\n",
    "df = df.merge(df_criminalidad, on='municipio', how='left')\n",
    "df"
   ],
   "id": "ee2450aa4079c945",
   "outputs": [],
   "execution_count": null
  },
  {
   "metadata": {},
   "cell_type": "code",
   "source": [
    "from sklearn.preprocessing import StandardScaler\n",
    "import statsmodels.api as sm\n",
    "\n",
    "# Separar variables\n",
    "X = df[['m2_lote',  #x1\n",
    "        'banos',    #x2\n",
    "        'estacionamientos', #x3\n",
    "        'recamaras',    #x4\n",
    "        'jardin',   #x5\n",
    "        'Distancia al parque (km)', #x6\n",
    "        'Distancia a plaza (km)',   #x7\n",
    "        'Distancia al centro de la ciudad (km)',    #x8\n",
    "        'robo_de_vehiculo_automotor',   #x9\n",
    "        'robo_a_negocio',   #x10\n",
    "        'robo_casa_habitacion']]    #x11\n",
    "y = df['precio']\n",
    "\n",
    "# Estandarizar X y y\n",
    "scaler_X = StandardScaler()\n",
    "# scaler_y = StandardScaler()\n",
    "\n",
    "X_scaled = scaler_X.fit_transform(X)\n",
    "# y_scaled = scaler_y.fit_transform(y.values.reshape(-1, 1))\n",
    "\n",
    "# Agregar constante (intercepto)\n",
    "X_scaled = sm.add_constant(X_scaled)\n",
    "\n",
    "# Ajustar modelo MCO\n",
    "modelo = sm.OLS(y, X_scaled).fit()\n",
    "\n",
    "# Resultados\n",
    "print(modelo.summary())\n"
   ],
   "id": "d98736bbed31f72e",
   "outputs": [],
   "execution_count": null
  },
  {
   "metadata": {},
   "cell_type": "code",
   "source": [
    "# Obtén el coeficiente del modelo\n",
    "coef_robo_vehiculo = modelo.params[modelo.model.exog_names.index('x11')]  # o el nombre correcto si lo renombras\n",
    "\n",
    "# Obtén la desviación estándar original del predictor\n",
    "std_robo_vehiculo = df['robo_casa_habitacion'].std()\n",
    "\n",
    "# Calcula el impacto por unidad\n",
    "impacto_por_robo = coef_robo_vehiculo / std_robo_vehiculo\n",
    "\n",
    "print(f\"Cambio estimado en precio por cada 1 robo adicional por 100k hab: ${impacto_por_robo:,.0f} pesos\")"
   ],
   "id": "3cd25eb707008cea",
   "outputs": [],
   "execution_count": null
  },
  {
   "metadata": {},
   "cell_type": "code",
   "source": [
    "from statsmodels.stats.outliers_influence import variance_inflation_factor\n",
    "\n",
    "vif = [variance_inflation_factor(X_scaled, i) for i in range(X_scaled.shape[1])]\n",
    "for x in vif:\n",
    "    print(x)"
   ],
   "id": "cfbf5e140a60d8b1",
   "outputs": [],
   "execution_count": null
  }
 ],
 "metadata": {
  "kernelspec": {
   "display_name": "Python 3",
   "language": "python",
   "name": "python3"
  },
  "language_info": {
   "codemirror_mode": {
    "name": "ipython",
    "version": 2
   },
   "file_extension": ".py",
   "mimetype": "text/x-python",
   "name": "python",
   "nbconvert_exporter": "python",
   "pygments_lexer": "ipython2",
   "version": "2.7.6"
  }
 },
 "nbformat": 4,
 "nbformat_minor": 5
}
